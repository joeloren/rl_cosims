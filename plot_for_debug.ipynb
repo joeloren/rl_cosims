{
 "cells": [
  {
   "cell_type": "code",
   "execution_count": 1,
   "metadata": {},
   "outputs": [],
   "source": [
    "%matplotlib widget\n",
    "import numpy as np\n",
    "from matplotlib import pyplot as plt\n",
    "from ipywidgets import interact\n",
    "from scipy import stats\n",
    "import copy\n",
    "\n",
    "from cvrp_simulation.scenario_generator import SampleDynamicBenchmark\n",
    "from cvrp_simulation.simulator import CVRPSimulation\n"
   ]
  },
  {
   "cell_type": "code",
   "execution_count": 2,
   "metadata": {},
   "outputs": [],
   "source": [
    "def get_cmap(n, name='hsv'):\n",
    "    '''Returns a function that maps each index in 0, 1, ..., n-1 to a distinct \n",
    "    RGB color; the keyword argument name must be a standard mpl colormap name.'''\n",
    "    return plt.cm.get_cmap(name, n)"
   ]
  },
  {
   "cell_type": "code",
   "execution_count": 3,
   "metadata": {},
   "outputs": [
    {
     "name": "stderr",
     "output_type": "stream",
     "text": [
      "C:\\Users\\ros1tv\\Anaconda3\\envs\\waferfab_test\\lib\\site-packages\\gym-0.15.7-py3.7.egg\\gym\\logger.py:30: UserWarning: \u001b[33mWARN: Box bound precision lowered by casting to float32\u001b[0m\n",
      "  warnings.warn(colorize('%s: %s'%('WARN', msg % args), 'yellow'))\n"
     ]
    }
   ],
   "source": [
    "depot_position_rv = stats.uniform(loc=0, scale=1)\n",
    "vehicle_position_rv = stats.uniform(loc=0, scale=1)\n",
    "customer_positions_rv = stats.uniform(loc=0, scale=1)\n",
    "customer_demands_rv = stats.randint(low=0, high=10)\n",
    "customer_times_rv = stats.randint(low=0, high=5)\n",
    "vehicle_velocity = 10\n",
    "vrp_size = 20\n",
    "initial_vehicle_capacity = vrp_size*2\n",
    "benchmark_generator = SampleDynamicBenchmark(depot_position_rv=depot_position_rv, vehicle_position_rv=vehicle_position_rv, \n",
    "                                            vehicle_capacity=initial_vehicle_capacity, vehicle_velocity=vehicle_velocity,\n",
    "                                            customer_positions_rv=customer_positions_rv, customer_demands_rv=customer_demands_rv,\n",
    "                                            customer_times_rv=customer_times_rv,\n",
    "                                            vrp_size=vrp_size)\n",
    "seed = 5\n",
    "sim = CVRPSimulation(max_customers=vrp_size, problem_generator=benchmark_generator)\n",
    "sim.seed(seed)\n",
    "color_map = get_cmap(10)\n",
    "depot_color = color_map(0)\n",
    "vehicle_color = color_map(1)"
   ]
  },
  {
   "cell_type": "code",
   "execution_count": 4,
   "metadata": {},
   "outputs": [
    {
     "name": "stdout",
     "output_type": "stream",
     "text": [
      "finished random run, total reward -11.946657421815843\n"
     ]
    }
   ],
   "source": [
    "obs = sim.reset()\n",
    "# in this case each time we choose action 0 since the available actions change each time\n",
    "# the number of available customers changes\n",
    "tot_reward = 0\n",
    "done = False\n",
    "all_states = [copy.deepcopy(sim)]\n",
    "all_observations = [copy.deepcopy(obs)]\n",
    "timeline = [0]\n",
    "while not done:\n",
    "    num_available_actions = sim.get_available_customers().size\n",
    "    if num_available_actions>0:\n",
    "        obs, reward, done, _ = sim.step(np.random.randint(0, num_available_actions))\n",
    "    else:\n",
    "        obs, reward, done, _ = sim.step(1)\n",
    "    all_states.append(copy.deepcopy(sim))\n",
    "    all_observations.append(copy.deepcopy(obs))\n",
    "    timeline.append(int(np.ceil(sim.current_time)))\n",
    "    tot_reward += reward\n",
    "print(f\"finished random run, total reward {tot_reward}\")\n"
   ]
  },
  {
   "cell_type": "code",
   "execution_count": 9,
   "metadata": {},
   "outputs": [
    {
     "data": {
      "application/vnd.jupyter.widget-view+json": {
       "model_id": "b12ba4d3d2374f0fa82974aaf270438c",
       "version_major": 2,
       "version_minor": 0
      },
      "text/plain": [
       "interactive(children=(IntSlider(value=11, description='t', max=23), Output()), _dom_classes=('widget-interact'…"
      ]
     },
     "metadata": {},
     "output_type": "display_data"
    }
   ],
   "source": [
    "@interact\n",
    "# for range (min, max, step) , this gives a slider\n",
    "# for drop down give a list of the options\n",
    "def plot_vehicle_routes(t=(0, len(timeline), 1)):\n",
    "    plt.close()\n",
    "    cur_sim = all_states[t]\n",
    "    observation_space = all_observations[t]\n",
    "    num_customers = cur_sim.current_state.customer_positions.shape[0]\n",
    "    plt.scatter([], [], label='opened, demand<capacity',c='b')\n",
    "    plt.scatter([], [], label='visited', c='g')\n",
    "    plt.scatter([], [], label='opened, demand>capacity', c='m')\n",
    "    plt.scatter([], [], label='closed', c='r')\n",
    "    plt.scatter(cur_sim.current_state.depot_position[0], cur_sim.current_state.depot_position[1], marker='s', c=depot_color)\n",
    "    \n",
    "    for i_c in range(num_customers):\n",
    "        customer_position = cur_sim.current_state.customer_positions[i_c, :]\n",
    "        # opened customer\n",
    "        plt.text(customer_position[0], customer_position[1],str(i_c))\n",
    "        if cur_sim.current_state.customer_visited[i_c]:\n",
    "            plt.scatter(customer_position[0], customer_position[1], marker='o', c='g')\n",
    "        elif cur_sim.current_state.customer_times[i_c]<= timeline[t]:\n",
    "            if cur_sim.current_state.customer_demands[i_c]<=cur_sim.current_state.current_vehicle_capacity:\n",
    "                plt.scatter(customer_position[0], customer_position[1], marker='o', c='b')\n",
    "            else:\n",
    "                plt.scatter(customer_position[0], customer_position[1], marker='o', c='m')\n",
    "                print(f\"customer demand:{cur_sim.current_state.customer_demands[i_c]} , capacity:{cur_sim.current_state.current_vehicle_capacity}\")\n",
    "        elif cur_sim.current_state.customer_times[i_c]> timeline[t]:\n",
    "            plt.scatter(customer_position[0], customer_position[1], marker='o', c='r')\n",
    "        else:\n",
    "            plt.scatter(customer_position[0], customer_position[1], marker='o', c='k')\n",
    "    n_e = 0\n",
    "    for i_c_o, obs_customer_position in enumerate(observation_space['customer_positions']):\n",
    "        if obs_customer_position.all()!=0:\n",
    "            plt.scatter(obs_customer_position[0], obs_customer_position[1], marker='.', c='w')\n",
    "            n_e += 1\n",
    "    # plot vehicle position \n",
    "    plt.scatter(cur_sim.current_state.current_vehicle_position[0], cur_sim.current_state.current_vehicle_position[1], marker='-', c=vehicle_color, s=60)\n",
    "    plt.grid()\n",
    "    plt.legend(loc='best')\n",
    "    plt.title(f\"t={timeline[t]} - customer locations\")\n",
    "    plt.show()\n",
    "    print(f\"number of available customers in observation:{n_e}\")"
   ]
  },
  {
   "cell_type": "code",
   "execution_count": null,
   "metadata": {},
   "outputs": [],
   "source": [
    "@interact\n",
    "# for range (min, max, step) , this gives a slider\n",
    "# for drop down give a list of the options\n",
    "def plot_current_obs(t=list(range(10))):\n",
    "    plt.close()\n",
    "    plt.scatter([2], [3+t])\n",
    "    plt.xlim([0, 10])\n",
    "    plt.show()"
   ]
  },
  {
   "cell_type": "code",
   "execution_count": 11,
   "metadata": {},
   "outputs": [
    {
     "data": {
      "text/plain": [
       "State(depot_position=array([0.22199317, 0.87073231]), current_vehicle_position=array([0.20671916, 0.91861091]), current_vehicle_capacity=40, vehicle_velocity=10, customer_positions=array([[0.48841119, 0.61174386],\n",
       "       [0.76590786, 0.51841799],\n",
       "       [0.2968005 , 0.18772123],\n",
       "       [0.08074127, 0.7384403 ],\n",
       "       [0.44130922, 0.15830987],\n",
       "       [0.87993703, 0.27408646],\n",
       "       [0.41423502, 0.29607993],\n",
       "       [0.62878791, 0.57983781],\n",
       "       [0.5999292 , 0.26581912],\n",
       "       [0.28468588, 0.25358821],\n",
       "       [0.32756395, 0.1441643 ],\n",
       "       [0.16561286, 0.96393053],\n",
       "       [0.96022672, 0.18841466],\n",
       "       [0.02430656, 0.20455555],\n",
       "       [0.69984361, 0.77951459],\n",
       "       [0.02293309, 0.57766286],\n",
       "       [0.00164217, 0.51547261],\n",
       "       [0.63979518, 0.9856244 ],\n",
       "       [0.2590976 , 0.80249689],\n",
       "       [0.87048309, 0.92274961]]), customer_demands=array([0.02214213, 4.69488372, 9.81468738, 3.98944804, 8.13732478,\n",
       "       5.46456498, 7.70854087, 4.84931075, 0.29111564, 0.86525688,\n",
       "       1.11453812, 2.51245112, 9.64915293, 6.31766053, 8.16660203,\n",
       "       5.66081996, 6.35356206, 8.11902391, 9.26682615, 9.12626764]), customer_times=array([1, 4, 2, 4, 3, 0, 0, 1, 4, 3, 4, 1, 0, 0, 2, 4, 3, 2, 4, 1]), customer_ids=array([ 0,  1,  2,  3,  4,  5,  6,  7,  8,  9, 10, 11, 12, 13, 14, 15, 16,\n",
       "       17, 18, 19]), customer_visited=array([False, False, False, False, False, False, False, False, False,\n",
       "       False, False, False, False, False, False, False, False, False,\n",
       "       False, False]))"
      ]
     },
     "execution_count": 11,
     "metadata": {},
     "output_type": "execute_result"
    }
   ],
   "source": [
    "all_states[0].current_state"
   ]
  },
  {
   "cell_type": "code",
   "execution_count": null,
   "metadata": {},
   "outputs": [],
   "source": []
  },
  {
   "cell_type": "code",
   "execution_count": null,
   "metadata": {},
   "outputs": [],
   "source": []
  }
 ],
 "metadata": {
  "kernelspec": {
   "display_name": "Python 3",
   "language": "python",
   "name": "python3"
  },
  "language_info": {
   "codemirror_mode": {
    "name": "ipython",
    "version": 3
   },
   "file_extension": ".py",
   "mimetype": "text/x-python",
   "name": "python",
   "nbconvert_exporter": "python",
   "pygments_lexer": "ipython3",
   "version": "3.7.7"
  }
 },
 "nbformat": 4,
 "nbformat_minor": 4
}
