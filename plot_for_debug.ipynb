{
 "cells": [
  {
   "cell_type": "code",
   "execution_count": 1,
   "metadata": {},
   "outputs": [],
   "source": [
    "%matplotlib widget\n",
    "import numpy as np\n",
    "from matplotlib import pyplot as plt\n",
    "from ipywidgets import interact\n",
    "from scipy import stats\n",
    "import copy\n",
    "\n",
    "from cvrp_simulation.scenario_generator import SampleDynamicBenchmark\n",
    "from cvrp_simulation.simulator import CVRPSimulation\n"
   ]
  },
  {
   "cell_type": "code",
   "execution_count": null,
   "metadata": {},
   "outputs": [],
   "source": []
  },
  {
   "cell_type": "code",
   "execution_count": 21,
   "metadata": {},
   "outputs": [
    {
     "name": "stderr",
     "output_type": "stream",
     "text": [
      "C:\\Users\\ros1tv\\Anaconda3\\envs\\waferfab_test\\lib\\site-packages\\gym-0.15.7-py3.7.egg\\gym\\logger.py:30: UserWarning: \u001b[33mWARN: Box bound precision lowered by casting to float32\u001b[0m\n",
      "  warnings.warn(colorize('%s: %s'%('WARN', msg % args), 'yellow'))\n"
     ]
    }
   ],
   "source": [
    "depot_position_rv = stats.uniform(loc=0, scale=1)\n",
    "vehicle_position_rv = stats.uniform(loc=0, scale=1)\n",
    "customer_positions_rv = stats.uniform(loc=0, scale=1)\n",
    "customer_demands_rv = stats.uniform(loc=0, scale=10)\n",
    "customer_times_rv = stats.randint(low=0, high=5)\n",
    "vehicle_velocity = 10\n",
    "vrp_size = 20\n",
    "initial_vehicle_capacity = vrp_size*8\n",
    "benchmark_generator = SampleDynamicBenchmark(depot_position_rv=depot_position_rv, vehicle_position_rv=vehicle_position_rv, \n",
    "                                            vehicle_capacity=initial_vehicle_capacity, vehicle_velocity=vehicle_velocity,\n",
    "                                            customer_positions_rv=customer_positions_rv, customer_demands_rv=customer_demands_rv,\n",
    "                                            customer_times_rv=customer_times_rv,\n",
    "                                            vrp_size=vrp_size)\n",
    "seed = 5\n",
    "sim = CVRPSimulation(max_customers=vrp_size, problem_generator=benchmark_generator)\n",
    "sim.seed(seed)"
   ]
  },
  {
   "cell_type": "code",
   "execution_count": 22,
   "metadata": {},
   "outputs": [
    {
     "name": "stdout",
     "output_type": "stream",
     "text": [
      "finished random run, total reward -11.000349552058038\n"
     ]
    }
   ],
   "source": [
    "obs = sim.reset()\n",
    "# in this case each time we choose action 0 since the available actions change each time\n",
    "# the number of available customers changes\n",
    "tot_reward = 0\n",
    "done = False\n",
    "all_states = [copy.deepcopy(sim)]\n",
    "all_observations = [copy.deepcopy(obs)]\n",
    "timeline = [0]\n",
    "while not done:\n",
    "    num_available_actions = sim.get_available_customers().size\n",
    "    if num_available_actions>0:\n",
    "        obs, reward, done, _ = sim.step(np.random.randint(0, num_available_actions))\n",
    "    else:\n",
    "        obs, reward, done, _ = sim.step(1)\n",
    "    all_states.append(copy.deepcopy(sim))\n",
    "    all_observations.append(copy.deepcopy(obs))\n",
    "    timeline.append(int(np.ceil(sim.current_time)))\n",
    "    tot_reward += reward\n",
    "print(f\"finished random run, total reward {tot_reward}\")\n"
   ]
  },
  {
   "cell_type": "code",
   "execution_count": 23,
   "metadata": {},
   "outputs": [
    {
     "data": {
      "application/vnd.jupyter.widget-view+json": {
       "model_id": "ca7d5398d35c4120b09993e84aac8ce2",
       "version_major": 2,
       "version_minor": 0
      },
      "text/plain": [
       "interactive(children=(IntSlider(value=10, description='t', max=21), Output()), _dom_classes=('widget-interact'…"
      ]
     },
     "metadata": {},
     "output_type": "display_data"
    }
   ],
   "source": [
    "@interact\n",
    "# for range (min, max, step) , this gives a slider\n",
    "# for drop down give a list of the options\n",
    "def plot_vehicle_routes(t=(0, len(timeline), 1)):\n",
    "    plt.close()\n",
    "    cur_sim = all_states[t]\n",
    "    observation_space = all_observations[t]\n",
    "    num_customers = cur_sim.current_state.customer_positions.shape[0]\n",
    "    plt.scatter([], [], label='opened, demand<capacity',c='b')\n",
    "    plt.scatter([], [], label='visited', c='g')\n",
    "    plt.scatter([], [], label='opened, demand>capacity', c='m')\n",
    "    plt.scatter([], [], label='closed', c='r')\n",
    "    for i_c in range(num_customers):\n",
    "        customer_position = cur_sim.current_state.customer_positions[i_c, :]\n",
    "        # opened customer\n",
    "        plt.text(customer_position[0], customer_position[1],str(i_c))\n",
    "        if cur_sim.current_state.customer_visited[i_c]:\n",
    "            plt.scatter(customer_position[0], customer_position[1], marker='o', c='g')\n",
    "        elif cur_sim.current_state.customer_times[i_c]<= timeline[t]:\n",
    "            if cur_sim.current_state.customer_demands[i_c]<=sim.current_state.current_vehicle_capacity:\n",
    "                plt.scatter(customer_position[0], customer_position[1], marker='o', c='b')\n",
    "            else:\n",
    "                plt.scatter(customer_position[0], customer_position[1], marker='o', c='m')\n",
    "        elif cur_sim.current_state.customer_times[i_c]> timeline[t]:\n",
    "            plt.scatter(customer_position[0], customer_position[1], marker='o', c='r')\n",
    "        else:\n",
    "            plt.scatter(customer_position[0], customer_position[1], marker='o', c='k')\n",
    "    n_e = 0\n",
    "    for i_c_o, obs_customer_position in enumerate(observation_space['customer_positions']):\n",
    "        if obs_customer_position.all()!=0:\n",
    "            plt.scatter(obs_customer_position[0], obs_customer_position[1], marker='.', c='w')\n",
    "            plt.text(obs_customer_position[0], obs_customer_position[1], str(i_c_o))\n",
    "            n_e += 1\n",
    "    plt.grid()\n",
    "    plt.legend(loc='best')\n",
    "    plt.title(f\"t={timeline[t]} - customer locations\")\n",
    "    plt.show()\n",
    "    print(n_e)"
   ]
  },
  {
   "cell_type": "code",
   "execution_count": null,
   "metadata": {},
   "outputs": [],
   "source": [
    "@interact\n",
    "# for range (min, max, step) , this gives a slider\n",
    "# for drop down give a list of the options\n",
    "def plot_current_obs(t=list(range(10))):\n",
    "    plt.close()\n",
    "    plt.scatter([2], [3+t])\n",
    "    plt.xlim([0, 10])\n",
    "    plt.show()"
   ]
  },
  {
   "cell_type": "code",
   "execution_count": null,
   "metadata": {},
   "outputs": [],
   "source": []
  },
  {
   "cell_type": "code",
   "execution_count": null,
   "metadata": {},
   "outputs": [],
   "source": []
  },
  {
   "cell_type": "code",
   "execution_count": null,
   "metadata": {},
   "outputs": [],
   "source": []
  }
 ],
 "metadata": {
  "kernelspec": {
   "display_name": "Python 3",
   "language": "python",
   "name": "python3"
  },
  "language_info": {
   "codemirror_mode": {
    "name": "ipython",
    "version": 3
   },
   "file_extension": ".py",
   "mimetype": "text/x-python",
   "name": "python",
   "nbconvert_exporter": "python",
   "pygments_lexer": "ipython3",
   "version": "3.7.7"
  }
 },
 "nbformat": 4,
 "nbformat_minor": 4
}
