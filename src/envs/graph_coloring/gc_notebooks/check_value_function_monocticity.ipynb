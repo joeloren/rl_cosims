{
 "cells": [
  {
   "cell_type": "code",
   "execution_count": 1,
   "metadata": {},
   "outputs": [],
   "source": [
    "from pathlib import Path\n",
    "from copy import deepcopy\n",
    "import numpy as np\n",
    "import json\n",
    "from typing import Dict\n",
    "import networkx as nx\n",
    "from matplotlib import pyplot as plt\n",
    "import torch_geometric\n",
    "from torch_geometric.data import Data\n",
    "\n",
    "from src.envs.graph_coloring.gc_experimentation.problems import create_er_random_graph_problem\n",
    "from src.envs.graph_coloring.gc_baselines.simple_policies import random_policy_without_newcolor\n",
    "from src.envs.graph_coloring.gc_baselines.ortools_policy import ORToolsOfflinePolicy\n",
    "from src.envs.graph_coloring.gc_policies.ppo_policy import PPOPolicy\n",
    "from src.envs.graph_coloring.gc_utils.graph_utils import add_color_nodes_to_graph, create_graph_from_observation\n",
    "from src.envs.graph_coloring.gc_utils.plot_results import plot_gc_solution"
   ]
  },
  {
   "cell_type": "code",
   "execution_count": 2,
   "metadata": {},
   "outputs": [],
   "source": [
    "sim = create_er_random_graph_problem(num_new_nodes=0, num_initial_nodes=15, prob_edge=0.3,\n",
    "                                   is_online=False, random_seed=15)"
   ]
  },
  {
   "cell_type": "code",
   "execution_count": 3,
   "metadata": {},
   "outputs": [],
   "source": [
    "model_location = '../../../training/runs/gc/ppo_agent/2020-10-28_15_24_03'\n",
    "with open(Path(model_location) / \"agent_params.json\") as f:\n",
    "    agent_config_dict = json.load(f)\n",
    "model_config_dict = agent_config_dict['model_config']\n",
    "if \"logit_normalizer\" not in model_config_dict.keys():\n",
    "    model_config_dict['logit_normalizer'] = agent_config_dict['logit_normalizer']"
   ]
  },
  {
   "cell_type": "code",
   "execution_count": 35,
   "metadata": {},
   "outputs": [
    {
     "name": "stdout",
     "output_type": "stream",
     "text": [
      "Loading model file: ../../../training/runs/gc/ppo_agent/2020-10-28_15_24_03/model_ep_9401\n",
      "device chosen:cpu\n"
     ]
    },
    {
     "data": {
      "text/plain": [
       "dict_keys(['node_colors', 'used_colors', 'nodes_id', 'edge_indexes', 'current_time', 'nodes_start_time', 'node_positions', 'color_adjacency_matrix'])"
      ]
     },
     "execution_count": 35,
     "metadata": {},
     "output_type": "execute_result"
    }
   ],
   "source": [
    "\n",
    "ppo_policy = PPOPolicy(agent_config_dict, model_config_dict, model_location, sim)\n",
    "num_stochastic_runs = 10\n",
    "num_seeds = 4\n",
    "value_outputs = {'states': [],\n",
    "                'state_value':[],\n",
    "                'next_state_values':[]}\n",
    "for i in range(num_seeds):\n",
    "    sim.seed(10 + i)\n",
    "    obs = sim.reset()\n",
    "    is_done = False\n",
    "    while not is_done:\n",
    "        last_state = np.sum(obs[\"node_colors\"] == -1) == 1\n",
    "        if not last_state:\n",
    "            value_next_states = []\n",
    "            for i in range(num_stochastic_runs):\n",
    "                copy_sim = deepcopy(sim)\n",
    "                action, _ = ppo_policy.get_action_and_value(obs, copy_sim)\n",
    "                next_obs, reward, is_done, _ = copy_sim.step(action)\n",
    "                _, next_value = ppo_policy.get_action_and_value(next_obs, copy_sim)\n",
    "                value_next_states.append(next_value)\n",
    "        action, value_current_state = ppo_policy.get_action_and_value(obs, sim)\n",
    "        if not last_state:\n",
    "            value_outputs['states'].append(deepcopy(obs))\n",
    "            value_outputs['next_state_values'].append(value_next_states)\n",
    "            value_outputs['state_value'].append(value_current_state)\n",
    "        obs, reward, is_done, _ = sim.step(action)\n",
    "graph_nx = create_graph_from_observation(obs)\n",
    "graph_nx_colors = add_color_nodes_to_graph(obs)\n",
    "#     plt.figure()\n",
    "#     plot_gc_solution(graph_nx_colors, [])\n",
    "graph_ppo = deepcopy(graph_nx_colors)\n",
    "obs.keys()"
   ]
  },
  {
   "cell_type": "code",
   "execution_count": 36,
   "metadata": {},
   "outputs": [
    {
     "data": {
      "image/png": "[encoded data removed]",
      "text/plain": [
       "<Figure size 432x288 with 1 Axes>"
      ]
     },
     "metadata": {
      "needs_background": "light"
     },
     "output_type": "display_data"
    }
   ],
   "source": [
    "state_values = value_outputs[\"state_value\"]\n",
    "expected_next_state_values = [np.mean(v) for v in value_outputs[\"next_state_values\"]]\n",
    "diff_values = np.array(state_values) - np.array(expected_next_state_values)\n",
    "plt.scatter(range(diff_values.size), diff_values)\n",
    "plt.grid()"
   ]
  },
  {
   "cell_type": "code",
   "execution_count": 41,
   "metadata": {},
   "outputs": [
    {
     "data": {
      "text/plain": [
       "0.16303064823150626"
      ]
     },
     "execution_count": 41,
     "metadata": {},
     "output_type": "execute_result"
    }
   ],
   "source": [
    "state_values[1] - expected_next_state_values[1]"
   ]
  },
  {
   "cell_type": "code",
   "execution_count": null,
   "metadata": {},
   "outputs": [],
   "source": []
  },
  {
   "cell_type": "code",
   "execution_count": null,
   "metadata": {},
   "outputs": [],
   "source": []
  }
 ],
 "metadata": {
  "kernelspec": {
   "display_name": "Python 3",
   "language": "python",
   "name": "python3"
  },
  "language_info": {
   "codemirror_mode": {
    "name": "ipython",
    "version": 3
   },
   "file_extension": ".py",
   "mimetype": "text/x-python",
   "name": "python",
   "nbconvert_exporter": "python",
   "pygments_lexer": "ipython3",
   "version": "3.7.7"
  }
 },
 "nbformat": 4,
 "nbformat_minor": 4
}
